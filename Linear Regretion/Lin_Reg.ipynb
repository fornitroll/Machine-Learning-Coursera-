{
 "cells": [
  {
   "cell_type": "code",
   "execution_count": 13,
   "metadata": {
    "collapsed": true
   },
   "outputs": [],
   "source": [
    "import numpy as np\n",
    "import pandas as pd\n",
    "import matplotlib.pyplot as plt\n",
    "import seaborn as sns\n",
    "%matplotlib inline\n",
    "from mpl_toolkits.mplot3d import Axes3D\n",
    "sns.set()\n",
    "from matplotlib.animation import FuncAnimation"
   ]
  },
  {
   "cell_type": "code",
   "execution_count": 2,
   "metadata": {
    "collapsed": true
   },
   "outputs": [],
   "source": [
    "data=pd.read_csv('ex1data1.txt', sep=',',header=None)"
   ]
  },
  {
   "cell_type": "code",
   "execution_count": 3,
   "metadata": {
    "collapsed": false
   },
   "outputs": [
    {
     "data": {
      "text/plain": [
       "0    0\n",
       "1    0\n",
       "dtype: int64"
      ]
     },
     "execution_count": 3,
     "metadata": {},
     "output_type": "execute_result"
    }
   ],
   "source": [
    "#Detect missing values (NaN in numeric arrays, None/NaN in object arrays)\n",
    "data.isnull().sum()"
   ]
  },
  {
   "cell_type": "code",
   "execution_count": 4,
   "metadata": {
    "collapsed": false
   },
   "outputs": [
    {
     "data": {
      "text/plain": [
       "0    97\n",
       "1    97\n",
       "dtype: int64"
      ]
     },
     "execution_count": 4,
     "metadata": {},
     "output_type": "execute_result"
    }
   ],
   "source": [
    "data.notnull().count()"
   ]
  },
  {
   "cell_type": "code",
   "execution_count": 5,
   "metadata": {
    "collapsed": false
   },
   "outputs": [
    {
     "name": "stdout",
     "output_type": "stream",
     "text": [
      "True\n"
     ]
    }
   ],
   "source": [
    "#Check that numbers of features iare equal to numbers ob Y\n",
    "X=np.array(data[0])\n",
    "Y=np.array(data[1])\n",
    "print(X.shape == Y.shape)"
   ]
  },
  {
   "cell_type": "markdown",
   "metadata": {},
   "source": [
    "## Gradient decent Method implementaiton"
   ]
  },
  {
   "cell_type": "code",
   "execution_count": 6,
   "metadata": {
    "collapsed": false
   },
   "outputs": [],
   "source": [
    "t0, t1 = 0,0"
   ]
  },
  {
   "cell_type": "code",
   "execution_count": 7,
   "metadata": {
    "collapsed": true
   },
   "outputs": [],
   "source": [
    "alpha = 0.01\n",
    "n = 1500  #iterations\n",
    "l=len(X)"
   ]
  },
  {
   "cell_type": "markdown",
   "metadata": {},
   "source": [
    "<img src='Eq1.PNG', alt=\"Drawing\" style=\"width: 300px;\"/>"
   ]
  },
  {
   "cell_type": "code",
   "execution_count": 8,
   "metadata": {
    "collapsed": true
   },
   "outputs": [],
   "source": [
    "def Y_rev(x,t0,t1):\n",
    "    b = t0 + t1 * x\n",
    "    return b"
   ]
  },
  {
   "cell_type": "markdown",
   "metadata": {},
   "source": [
    "<img src='Eq2.PNG',alt=\"Drawing\" style=\"width: 250px;\"/>\n",
    "<img src='Eq3.PNG',alt=\"Drawing\" style=\"width: 500px;\"/>"
   ]
  },
  {
   "cell_type": "code",
   "execution_count": 9,
   "metadata": {
    "collapsed": false
   },
   "outputs": [
    {
     "name": "stdout",
     "output_type": "stream",
     "text": [
      "t0 =  -3.6302914394 t1 =  1.16636235034 \n",
      " s0/l =  0.0479434379585 s1/l =  -0.00481643837669\n"
     ]
    },
    {
     "data": {
      "text/plain": [
       "<matplotlib.text.Text at 0xb23a198>"
      ]
     },
     "execution_count": 9,
     "metadata": {},
     "output_type": "execute_result"
    },
    {
     "data": {
      "image/png": "[encoded data removed]",
      "text/plain": [
       "<matplotlib.figure.Figure at 0xb1ee208>"
      ]
     },
     "metadata": {},
     "output_type": "display_data"
    }
   ],
   "source": [
    "c=[]\n",
    "T0=[]\n",
    "T1=[]\n",
    "for i in range(n):\n",
    "    s0=((Y_rev(X,t0,t1)-Y)).sum()\n",
    "    s1=((Y_rev(X,t0,t1)-Y)*X).sum()\n",
    "    t0=t0-alpha*s0/l\n",
    "    t1=t1-alpha*s1/l\n",
    "\n",
    "# Cost computing part, for plot\n",
    "    Y_new = Y_rev(X,t0,t1)\n",
    "    J = (Y_new - Y)**2\n",
    "    c.append(J.sum()/(2*l)) \n",
    "    \n",
    "    T0.append(t0)\n",
    "    T1.append(t1)\n",
    "    \n",
    "print('t0 = ',t0,'t1 = ',t1,'\\n','s0/l = ',s0/l,'s1/l = ',s1/l)\n",
    "\n",
    "#Cost plot\n",
    "plt.plot(c)\n",
    "plt.title(\"Cost Fuction\")\n",
    "plt.xlabel(\"Number of iterations\")\n",
    "plt.ylabel(\"Cost Function\")"
   ]
  },
  {
   "cell_type": "code",
   "execution_count": 10,
   "metadata": {
    "collapsed": false
   },
   "outputs": [],
   "source": [
    "#ax = plt.axes(projection='3d')\n",
    "#ax.scatter(T0, T1, c, 'gray')"
   ]
  },
  {
   "cell_type": "code",
   "execution_count": 11,
   "metadata": {
    "collapsed": false
   },
   "outputs": [],
   "source": [
    "Y_new = Y_rev(X,t0,t1)"
   ]
  },
  {
   "cell_type": "code",
   "execution_count": 12,
   "metadata": {
    "collapsed": false
   },
   "outputs": [
    {
     "data": {
      "text/plain": [
       "<matplotlib.legend.Legend at 0xb8bfef0>"
      ]
     },
     "execution_count": 12,
     "metadata": {},
     "output_type": "execute_result"
    },
    {
     "data": {
      "image/png": "[encoded data removed]",
      "text/plain": [
       "<matplotlib.figure.Figure at 0xb1f3198>"
      ]
     },
     "metadata": {},
     "output_type": "display_data"
    }
   ],
   "source": [
    "fig = plt.figure(figsize=(10,10))\n",
    "ax1 = fig.add_subplot(211)\n",
    "ax2 = fig.add_subplot(212)\n",
    "a=np.array([X.min(),X.max()])\n",
    "b=np.array([X.min()*t1+t0,X.max()*t1+t0])\n",
    "sns.regplot(x=X, y=Y, color=\"b\", fit_reg=False, marker='4', ax=ax1)\n",
    "sns.regplot(x=a, y=b, color=\"g\", ax=ax1)\n",
    "sns.regplot(x=X, y=Y, color=\"b\", fit_reg=True, marker='4', ax=ax2)\n",
    "\n",
    "ax1.set_title('Gradient Decent Method')\n",
    "ax1.legend(['Predicted values','Real Values'])\n",
    "\n",
    "ax2.set_title('Standard Seaborn Regrassion Line')\n",
    "ax2.legend(['Predicted values','Real Values'])"
   ]
  },
  {
   "cell_type": "code",
   "execution_count": 62,
   "metadata": {
    "collapsed": false
   },
   "outputs": [
    {
     "name": "stderr",
     "output_type": "stream",
     "text": [
      "C:\\Roman Kutskyi\\Anaconda\\lib\\site-packages\\matplotlib\\animation.py:782: UserWarning: MovieWriter mencoder unavailable\n",
      "  warnings.warn(\"MovieWriter %s unavailable\" % writer)\n"
     ]
    },
    {
     "ename": "ValueError",
     "evalue": "Cannot save animation: no writers are available. Please install mencoder or ffmpeg to save animations.",
     "output_type": "error",
     "traceback": [
      "\u001b[1;31m---------------------------------------------------------------------------\u001b[0m",
      "\u001b[1;31mIndexError\u001b[0m                                Traceback (most recent call last)",
      "\u001b[1;32mC:\\Roman Kutskyi\\Anaconda\\lib\\site-packages\\matplotlib\\animation.py\u001b[0m in \u001b[0;36msave\u001b[1;34m(self, filename, writer, fps, dpi, codec, bitrate, extra_args, metadata, extra_anim, savefig_kwargs)\u001b[0m\n\u001b[0;32m    784\u001b[0m                 \u001b[1;32mtry\u001b[0m\u001b[1;33m:\u001b[0m\u001b[1;33m\u001b[0m\u001b[0m\n\u001b[1;32m--> 785\u001b[1;33m                     writer = writers[writers.list()[0]](fps, codec, bitrate,\n\u001b[0m\u001b[0;32m    786\u001b[0m                                                         \u001b[0mextra_args\u001b[0m\u001b[1;33m=\u001b[0m\u001b[0mextra_args\u001b[0m\u001b[1;33m,\u001b[0m\u001b[1;33m\u001b[0m\u001b[0m\n",
      "\u001b[1;31mIndexError\u001b[0m: list index out of range",
      "\nDuring handling of the above exception, another exception occurred:\n",
      "\u001b[1;31mValueError\u001b[0m                                Traceback (most recent call last)",
      "\u001b[1;32m<ipython-input-62-ea396a5d82ec>\u001b[0m in \u001b[0;36m<module>\u001b[1;34m()\u001b[0m\n\u001b[0;32m     32\u001b[0m \u001b[1;33m\u001b[0m\u001b[0m\n\u001b[0;32m     33\u001b[0m \u001b[0mani\u001b[0m \u001b[1;33m=\u001b[0m \u001b[0mFuncAnimation\u001b[0m\u001b[1;33m(\u001b[0m\u001b[0mfig\u001b[0m\u001b[1;33m,\u001b[0m \u001b[0manimate\u001b[0m\u001b[1;33m,\u001b[0m \u001b[0mnp\u001b[0m\u001b[1;33m.\u001b[0m\u001b[0marange\u001b[0m\u001b[1;33m(\u001b[0m\u001b[1;36m0\u001b[0m\u001b[1;33m,\u001b[0m\u001b[1;36m40\u001b[0m\u001b[1;33m)\u001b[0m\u001b[1;33m,\u001b[0m \u001b[0minterval\u001b[0m\u001b[1;33m=\u001b[0m\u001b[1;36m100\u001b[0m\u001b[1;33m,\u001b[0m \u001b[0mblit\u001b[0m\u001b[1;33m=\u001b[0m\u001b[1;32mTrue\u001b[0m\u001b[1;33m)\u001b[0m\u001b[1;33m\u001b[0m\u001b[0m\n\u001b[1;32m---> 34\u001b[1;33m \u001b[0mani\u001b[0m\u001b[1;33m.\u001b[0m\u001b[0msave\u001b[0m\u001b[1;33m(\u001b[0m\u001b[1;34m'the_movie.mp4'\u001b[0m\u001b[1;33m,\u001b[0m \u001b[0mwriter\u001b[0m \u001b[1;33m=\u001b[0m \u001b[1;34m'mencoder'\u001b[0m\u001b[1;33m,\u001b[0m \u001b[0mfps\u001b[0m\u001b[1;33m=\u001b[0m\u001b[1;36m15\u001b[0m\u001b[1;33m)\u001b[0m\u001b[1;33m\u001b[0m\u001b[0m\n\u001b[0m\u001b[0;32m     35\u001b[0m \u001b[1;31m#HTML(ani.to_html5_video())\u001b[0m\u001b[1;33m\u001b[0m\u001b[1;33m\u001b[0m\u001b[0m\n",
      "\u001b[1;32mC:\\Roman Kutskyi\\Anaconda\\lib\\site-packages\\matplotlib\\animation.py\u001b[0m in \u001b[0;36msave\u001b[1;34m(self, filename, writer, fps, dpi, codec, bitrate, extra_args, metadata, extra_anim, savefig_kwargs)\u001b[0m\n\u001b[0;32m    787\u001b[0m                                                         metadata=metadata)\n\u001b[0;32m    788\u001b[0m                 \u001b[1;32mexcept\u001b[0m \u001b[0mIndexError\u001b[0m\u001b[1;33m:\u001b[0m\u001b[1;33m\u001b[0m\u001b[0m\n\u001b[1;32m--> 789\u001b[1;33m                     raise ValueError(\"Cannot save animation: no writers are \"\n\u001b[0m\u001b[0;32m    790\u001b[0m                                      \u001b[1;34m\"available. Please install mencoder or \"\u001b[0m\u001b[1;33m\u001b[0m\u001b[0m\n\u001b[0;32m    791\u001b[0m                                      \"ffmpeg to save animations.\")\n",
      "\u001b[1;31mValueError\u001b[0m: Cannot save animation: no writers are available. Please install mencoder or ffmpeg to save animations."
     ]
    }
   ],
   "source": [
    "from matplotlib import animation, rc\n",
    "from IPython.display import HTML\n",
    "\n",
    "from tempfile import NamedTemporaryFile\n",
    "\n",
    "from matplotlib import animation, rc\n",
    "from IPython.display import HTML\n",
    "\n",
    "def display_animation(anim):\n",
    "    plt.close(anim._fig)\n",
    "    return HTML(anim_to_html(anim))\n",
    "\n",
    "\n",
    "t0 = 0\n",
    "t1 = 0\n",
    "fig = plt.figure(dpi=100, figsize=(5,4))\n",
    "plt.scatter(X, Y)\n",
    "line, = plt.plot(X,Y_rev(X,t0,t1))\n",
    "plt.close()\n",
    "def upd():\n",
    "    global t0, t1\n",
    "    dydb=((Y_rev(X,t0,t1)-Y)).sum()     #y = (ax+b - y_pred)**2   dydb = 2(ax+b-y_pred)  dyda = 2x(ax+b-y_pred)\n",
    "    dyda=((Y_rev(X,t0,t1)-Y)*X).sum()\n",
    "    t0=t0-alpha*dydb/l\n",
    "    t1=t1-alpha*dyda/l\n",
    "             \n",
    "                \n",
    "def animate(i):\n",
    "    line.set_ydata(Y_rev(X,t0,t1))\n",
    "    for i in range(10): upd()\n",
    "    return line,\n",
    "\n",
    "ani = FuncAnimation(fig, animate, np.arange(0,40), interval=100, blit=True)\n",
    "ani.save('the_movie.mp4', writer = 'mencoder', fps=15)\n",
    "#HTML(ani.to_html5_video())"
   ]
  },
  {
   "cell_type": "markdown",
   "metadata": {
    "collapsed": false
   },
   "source": [
    "## Normal Equations"
   ]
  },
  {
   "cell_type": "markdown",
   "metadata": {
    "collapsed": false
   },
   "source": [
    "<img src='Eq4.PNG',alt=\"Drawing\" style=\"width: 250px;\"/>"
   ]
  },
  {
   "cell_type": "code",
   "execution_count": 109,
   "metadata": {
    "collapsed": false
   },
   "outputs": [
    {
     "name": "stdout",
     "output_type": "stream",
     "text": [
      "[-3.89578088  1.19303364]\n",
      "t0 =  -3.89578087831 t1 =  1.19303364419\n"
     ]
    }
   ],
   "source": [
    "x_t = np.array([np.ones(l),X])\n",
    "\n",
    "# Matrix mult\n",
    "a=np.matmul(x_t,x_t.T)\n",
    "\n",
    "#Matrix Inverse    numpy.linalg.inv\n",
    "a=np.linalg.inv(a)\n",
    "\n",
    "b=np.matmul(a,x_t)\n",
    "c=b=np.matmul(b,Y)\n",
    "#A=np.array(np.ones(l).transpose(),X.transpose())\n",
    "#A=A**(-1)\n",
    "#B=A*X.transpose()\n",
    "#C=np.matmul(B,Y)\n",
    "\n",
    "print(c)\n",
    "print('t0 = ',c[0],'t1 = ',c[1])  "
   ]
  },
  {
   "cell_type": "code",
   "execution_count": 112,
   "metadata": {
    "collapsed": false
   },
   "outputs": [
    {
     "data": {
      "text/plain": [
       "<matplotlib.text.Text at 0x120fca90>"
      ]
     },
     "execution_count": 112,
     "metadata": {},
     "output_type": "execute_result"
    },
    {
     "data": {
      "image/png": "[encoded data removed]",
      "text/plain": [
       "<matplotlib.figure.Figure at 0x11f5d438>"
      ]
     },
     "metadata": {},
     "output_type": "display_data"
    }
   ],
   "source": [
    "fig = plt.figure(figsize=(10,10))\n",
    "ax1 = fig.add_subplot(211)\n",
    "#ax2 = fig.add_subplot(212)\n",
    "a=np.array([X.min(),X.max()])\n",
    "b=np.array([X.min()*c[1]+c[0],X.max()*t1+t0])\n",
    "sns.regplot(x=X, y=Y, color=\"b\", fit_reg=False, marker='4', ax=ax1)\n",
    "sns.regplot(x=a, y=b, color=\"g\", ax=ax1)\n",
    "#sns.regplot(x=X, y=Y, color=\"b\", fit_reg=True, marker='4', ax=ax2)\n",
    "ax1.set_title('Normal Equation')\n",
    "#ax2.set_title('Standard Seaborn Regration Line')"
   ]
  },
  {
   "cell_type": "markdown",
   "metadata": {},
   "source": [
    "# Linear regression with multiple variables\n",
    "In this part, you will implement linear regression with multiple variables to\n",
    "predict the prices of houses. Suppose you are selling your house and you\n",
    "want to know what a good market price would be. One way to do this is to\n",
    "\f",
    "rst collect information on recent houses sold and make a model of housing\n",
    "prices.\n",
    "The \f",
    "le ex1data2.txt contains a training set of housing prices in Port-\n",
    "land, Oregon. The \f",
    "rst column is the size of the house (in square feet), the\n",
    "second column is the number of bedrooms, and the third column is the price\n",
    "of the house."
   ]
  },
  {
   "cell_type": "code",
   "execution_count": 5,
   "metadata": {
    "collapsed": false
   },
   "outputs": [],
   "source": [
    "data=pd.read_csv('ex1data2.txt', sep=',',header=None)"
   ]
  },
  {
   "cell_type": "code",
   "execution_count": 6,
   "metadata": {
    "collapsed": false
   },
   "outputs": [
    {
     "data": {
      "text/plain": [
       "0    0\n",
       "1    0\n",
       "2    0\n",
       "dtype: int64"
      ]
     },
     "execution_count": 6,
     "metadata": {},
     "output_type": "execute_result"
    }
   ],
   "source": [
    "#Detect missing values (NaN in numeric arrays, None/NaN in object arrays)\n",
    "data.isnull().sum()"
   ]
  },
  {
   "cell_type": "code",
   "execution_count": 7,
   "metadata": {
    "collapsed": false
   },
   "outputs": [
    {
     "data": {
      "text/plain": [
       "0    47\n",
       "1    47\n",
       "2    47\n",
       "dtype: int64"
      ]
     },
     "execution_count": 7,
     "metadata": {},
     "output_type": "execute_result"
    }
   ],
   "source": [
    "data.notnull().count()"
   ]
  },
  {
   "cell_type": "code",
   "execution_count": 8,
   "metadata": {
    "collapsed": false
   },
   "outputs": [
    {
     "name": "stdout",
     "output_type": "stream",
     "text": [
      "True\n"
     ]
    }
   ],
   "source": [
    "X_1=np.array(data[0])  # Size of the house\n",
    "X_2=np.array(data[1])  # Number of bedrooms\n",
    "Y=np.array(data[2])  # Price\n",
    "\n",
    "#Features normalization\n",
    "X1norm = (X_1 - np.mean(X_1))/np.std(X_1)\n",
    "X2norm = (X_2 - np.mean(X_2))/np.std(X_2)\n",
    "Y_norm = (Y - np.mean(Y))/np.std(Y)\n",
    "\n",
    "print(X_1.shape == X_2.shape and X_1.shape == Y.shape)"
   ]
  },
  {
   "cell_type": "markdown",
   "metadata": {},
   "source": [
    "## Gradient decent Method implementaiton with multiple variables"
   ]
  },
  {
   "cell_type": "code",
   "execution_count": 40,
   "metadata": {
    "collapsed": false
   },
   "outputs": [],
   "source": [
    "t0, t1, t2 = 0.5,0.5,0.5\n",
    "T=np.array([t0,t1,t2])\n",
    "alpha = 0.005 #Learning rate\n",
    "n = 1500  #iterations\n",
    "\n",
    "l=len(X_1)\n",
    "#construct the X vector\n",
    "X = np.array([np.ones(l),X1norm,X2norm]).T"
   ]
  },
  {
   "cell_type": "code",
   "execution_count": 41,
   "metadata": {
    "collapsed": true
   },
   "outputs": [],
   "source": [
    "def Y_rev(x,t):\n",
    "    y = np.matmul(x,t)\n",
    "    return y"
   ]
  },
  {
   "cell_type": "code",
   "execution_count": 42,
   "metadata": {
    "collapsed": false
   },
   "outputs": [
    {
     "name": "stdout",
     "output_type": "stream",
     "text": [
      "t0 =  0.00027138830147 t1 =  0.867536482233 t2 =  -0.035947979547\n"
     ]
    },
    {
     "data": {
      "image/png": "[encoded data removed]",
      "text/plain": [
       "<matplotlib.figure.Figure at 0xb3f70b8>"
      ]
     },
     "metadata": {},
     "output_type": "display_data"
    }
   ],
   "source": [
    "c=[]\n",
    "\n",
    "for i in range(n):\n",
    "    Z = (Y_rev(X,T)-Y_norm)\n",
    "    S=np.matmul(Z,X)\n",
    "    \n",
    "# Cost computing part, for plot\n",
    "    Y_new = Y_rev(X,T)\n",
    "    J = (Y_new - Y_norm)**2\n",
    "    c.append(J.sum()/(2*l))\n",
    "    \n",
    "    T[0]=T[0]-alpha*S[0]/l\n",
    "    T[1]=T[1]-alpha*S[1]/l\n",
    "    T[2]=T[2]-alpha*S[2]/l\n",
    "\n",
    " \n",
    "    \n",
    "print('t0 = ',T[0],'t1 = ',T[1],'t2 = ',T[2])\n",
    "\n",
    "#Cost plot\n",
    "plt.plot(c)\n",
    "plt.title(\"Cost Fuction\")\n",
    "plt.xlabel(\"Number of iterations\")\n",
    "plt.ylabel(\"Cost Function\");"
   ]
  },
  {
   "cell_type": "code",
   "execution_count": 43,
   "metadata": {
    "collapsed": false
   },
   "outputs": [
    {
     "name": "stdout",
     "output_type": "stream",
     "text": [
      "The Cost Funciton =  0.133658741362\n"
     ]
    }
   ],
   "source": [
    "print('The Cost Funciton = ',c[-1])"
   ]
  },
  {
   "cell_type": "markdown",
   "metadata": {
    "collapsed": false
   },
   "source": [
    "#### NUMPY BFGS Optimization"
   ]
  },
  {
   "cell_type": "code",
   "execution_count": 11,
   "metadata": {
    "collapsed": false
   },
   "outputs": [],
   "source": [
    "from scipy.optimize import minimize"
   ]
  },
  {
   "cell_type": "code",
   "execution_count": 49,
   "metadata": {
    "collapsed": false
   },
   "outputs": [],
   "source": [
    "# Cost Function\n",
    "def cost(T):\n",
    "    C = (np.matmul(X,T)-Y_norm)**2\n",
    "    return (C.sum()/(2*l))\n",
    "\n",
    "#Gradient Function\n",
    "def grad(T):\n",
    "    A = (np.matmul(X,T)-Y_norm)**2\n",
    "    B = \n",
    "    \n",
    "    "
   ]
  },
  {
   "cell_type": "code",
   "execution_count": 50,
   "metadata": {
    "collapsed": false
   },
   "outputs": [
    {
     "name": "stdout",
     "output_type": "stream",
     "text": [
      "0.133658164246\n"
     ]
    }
   ],
   "source": [
    "print(cost(T)) "
   ]
  },
  {
   "cell_type": "code",
   "execution_count": 58,
   "metadata": {
    "collapsed": false
   },
   "outputs": [
    {
     "data": {
      "text/plain": [
       "(47,)"
      ]
     },
     "execution_count": 58,
     "metadata": {},
     "output_type": "execute_result"
    }
   ],
   "source": [
    "#res = minimize(rosen, x0, method='BFGS', jac=rosen_der, options={'disp': True})\n"
   ]
  },
  {
   "cell_type": "code",
   "execution_count": 59,
   "metadata": {
    "collapsed": false
   },
   "outputs": [
    {
     "data": {
      "text/plain": [
       "(47,)"
      ]
     },
     "execution_count": 59,
     "metadata": {},
     "output_type": "execute_result"
    }
   ],
   "source": [
    "Y.shape"
   ]
  },
  {
   "cell_type": "markdown",
   "metadata": {},
   "source": [
    "#### sklearn import linear_mode"
   ]
  },
  {
   "cell_type": "code",
   "execution_count": 19,
   "metadata": {
    "collapsed": false
   },
   "outputs": [
    {
     "data": {
      "text/plain": [
       "array([  7.96887631e-04,   4.71395081e-02,   1.67944414e-01,\n",
       "         5.16941863e-02,   5.47607709e-03,   1.87314998e+00,\n",
       "         8.78535908e-02,   1.35789040e+00,   1.06151012e+00,\n",
       "         7.33142339e-01,   3.32787468e+00,   1.11068132e-01,\n",
       "         1.60598052e-01,   1.47983057e-01,   3.27010652e-01,\n",
       "         1.27002740e-01,   1.46372664e-01,   1.07439855e+00,\n",
       "         2.18747087e-02,   1.47489379e-01,   8.94507433e-01,\n",
       "         1.16697890e-01,   8.51855665e-01,   2.81353580e+00,\n",
       "         8.93948937e-02,   2.97946603e-01,   9.24069361e-01,\n",
       "         1.01409531e-01,   3.29794961e-01,   1.25245824e+00,\n",
       "         2.08588273e-01,   3.97355697e-02,   1.64442236e+00,\n",
       "         6.82899649e-01,   1.88004388e+00,   5.77852642e-01,\n",
       "         6.33492831e-01,   1.20458037e+00,   5.97743179e-01,\n",
       "         2.51374531e+00,   5.16055195e-01,   3.87959773e-01,\n",
       "         2.63991388e+00,   4.51655049e-02,   8.40124622e-02,\n",
       "         1.64877645e+00,   4.83612098e-01])"
      ]
     },
     "execution_count": 19,
     "metadata": {},
     "output_type": "execute_result"
    }
   ],
   "source": [
    "(Y_rev(X,T)-Y_norm)**2from sklearn import linear_model\n",
    "model = linear_model.LinearRegression()  \n",
    "model.fit(X[:,1:2], Y)\n",
    "x = X[:,1:2]  \n",
    "f = model.predict(x)\n",
    "f.shape"
   ]
  },
  {
   "cell_type": "code",
   "execution_count": 60,
   "metadata": {
    "collapsed": false
   },
   "outputs": [
    {
     "data": {
      "text/plain": [
       "0.73100378397553056"
      ]
     },
     "execution_count": 60,
     "metadata": {},
     "output_type": "execute_result"
    }
   ],
   "source": [
    "model.score(x, Y)"
   ]
  },
  {
   "cell_type": "markdown",
   "metadata": {
    "collapsed": true
   },
   "source": [
    "# Additional materials"
   ]
  },
  {
   "cell_type": "code",
   "execution_count": null,
   "metadata": {
    "collapsed": true
   },
   "outputs": [],
   "source": [
    "from matplotlib import animation, rc\n",
    "from IPython.display import HTML\n",
    "\n",
    "from tempfile import NamedTemporaryFile\n",
    "\n",
    "from matplotlib import animation, rc\n",
    "from IPython.display import HTML\n",
    "\n",
    "def display_animation(anim):\n",
    "    plt.close(anim._fig)\n",
    "    return HTML(anim_to_html(anim))\n",
    "\n",
    "\n",
    "t0 = 0\n",
    "t1 = 0\n",
    "fig = plt.figure(dpi=100, figsize=(5,4))\n",
    "plt.scatter(X, Y)\n",
    "line, = plt.plot(X,Y_rev(X,t0,t1))\n",
    "plt.close()\n",
    "def upd():\n",
    "    global t0, t1\n",
    "    dydb=((Y_rev(X,t0,t1)-Y)).sum()     #y = (ax+b - y_pred)**2   dydb = 2(ax+b-y_pred)  dyda = 2x(ax+b-y_pred)\n",
    "    dyda=((Y_rev(X,t0,t1)-Y)*X).sum()\n",
    "    t0=t0-alpha*dydb/l\n",
    "    t1=t1-alpha*dyda/l\n",
    "             \n",
    "                \n",
    "def animate(i):\n",
    "    line.set_ydata(Y_rev(X,t0,t1))\n",
    "    for i in range(10): upd()\n",
    "    return line,\n",
    "\n",
    "ani = FuncAnimation(fig, animate, np.arange(0,40), interval=100, blit=True)\n",
    "ani.save('the_movie.mp4', writer = 'mencoder', fps=15)\n",
    "#HTML(ani.to_html5_video())"
   ]
  }
 ],
 "metadata": {
  "kernelspec": {
   "display_name": "Python 3",
   "language": "python",
   "name": "python3"
  },
  "language_info": {
   "codemirror_mode": {
    "name": "ipython",
    "version": 3
   },
   "file_extension": ".py",
   "mimetype": "text/x-python",
   "name": "python",
   "nbconvert_exporter": "python",
   "pygments_lexer": "ipython3",
   "version": "3.5.1"
  }
 },
 "nbformat": 4,
 "nbformat_minor": 0
}
